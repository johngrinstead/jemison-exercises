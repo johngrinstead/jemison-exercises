{
 "cells": [
  {
   "cell_type": "markdown",
   "metadata": {},
   "source": [
    "# 1. Conditional Basics"
   ]
  },
  {
   "cell_type": "markdown",
   "metadata": {},
   "source": [
    "## - A) Prompt the user for a day of the week, print out whether the day is Monday or not"
   ]
  },
  {
   "cell_type": "code",
   "execution_count": 2,
   "metadata": {},
   "outputs": [
    {
     "name": "stdin",
     "output_type": "stream",
     "text": [
      "What is today? Monday\n"
     ]
    },
    {
     "name": "stdout",
     "output_type": "stream",
     "text": [
      "Today is Monday\n"
     ]
    }
   ],
   "source": [
    "day_input = input('What is today?')\n",
    "\n",
    "if day_input == 'Monday':\n",
    "    print('Today is Monday')\n",
    "else:\n",
    "    print('Today is not Monday')"
   ]
  },
  {
   "cell_type": "markdown",
   "metadata": {},
   "source": [
    "## - B) prompt the user for a day of the week, print out whether the day is a weekday or a weekend"
   ]
  },
  {
   "cell_type": "code",
   "execution_count": 3,
   "metadata": {},
   "outputs": [
    {
     "name": "stdin",
     "output_type": "stream",
     "text": [
      "What is today? Monday\n"
     ]
    },
    {
     "name": "stdout",
     "output_type": "stream",
     "text": [
      "It is not yet the weekend\n"
     ]
    }
   ],
   "source": [
    "day_input = input('What is today?')\n",
    "\n",
    "if day_input == 'Saturday' or day_input == 'Sunday':\n",
    "    print('It is the weekend!')\n",
    "else:\n",
    "    print('It is not yet the weekend')"
   ]
  },
  {
   "cell_type": "markdown",
   "metadata": {},
   "source": [
    "## - C) create variables and make up values for\n",
    "\n",
    "- the number of hours worked in one week\n",
    "\n",
    "- the hourly rate\n",
    "\n",
    "- how much the week's paycheck will be"
   ]
  },
  {
   "cell_type": "code",
   "execution_count": 5,
   "metadata": {},
   "outputs": [
    {
     "name": "stdin",
     "output_type": "stream",
     "text": [
      "How many hours did you work this week? 23\n",
      "What is your hourly rate? 234\n"
     ]
    },
    {
     "data": {
      "text/plain": [
       "5382"
      ]
     },
     "execution_count": 5,
     "metadata": {},
     "output_type": "execute_result"
    }
   ],
   "source": [
    "hours_worked = int(input('How many hours did you work this week?'))\n",
    "\n",
    "hourly_rate = int(input('What is your hourly rate?'))\n",
    "\n",
    "weekly_paycheck = hours_worked * hourly_rate\n",
    "\n",
    "weekly_paycheck"
   ]
  },
  {
   "cell_type": "markdown",
   "metadata": {},
   "source": [
    "## - D) write the python code that calculates the weekly paycheck. You get paid time and a half if you work more than 40 hours"
   ]
  },
  {
   "cell_type": "code",
   "execution_count": 6,
   "metadata": {},
   "outputs": [
    {
     "name": "stdin",
     "output_type": "stream",
     "text": [
      "How many hours did you work this week? 45\n",
      "What is your hourly rate? 23\n"
     ]
    },
    {
     "data": {
      "text/plain": [
       "1092.5"
      ]
     },
     "execution_count": 6,
     "metadata": {},
     "output_type": "execute_result"
    }
   ],
   "source": [
    "hours_worked = int(input('How many hours did you work this week?'))\n",
    "\n",
    "hourly_rate = int(input('What is your hourly rate?'))\n",
    "\n",
    "if hours_worked > 40:\n",
    "    weekly_paycheck = (40 * hourly_rate) + ((hours_worked - 40) * (hourly_rate * 1.5))\n",
    "else:\n",
    "    weekly_paycheck = hours_worked * hourly_rate\n",
    "    \n",
    "weekly_paycheck"
   ]
  },
  {
   "cell_type": "markdown",
   "metadata": {},
   "source": [
    "# 2. Loop Basics"
   ]
  },
  {
   "cell_type": "markdown",
   "metadata": {},
   "source": [
    "## - A) While\n",
    "\n",
    "- Create an integer variable i with a value of 5.\n",
    "\n",
    "- Create a while loop that runs so long as i is less than or equal to 15\n",
    "\n",
    "- Each loop iteration, output the current value of i, then increment i by one."
   ]
  },
  {
   "cell_type": "code",
   "execution_count": 8,
   "metadata": {},
   "outputs": [
    {
     "data": {
      "text/plain": [
       "'\\n5\\n6\\n7\\n8\\n9\\n10\\n11\\n12\\n13\\n14\\n15\\n'"
      ]
     },
     "execution_count": 8,
     "metadata": {},
     "output_type": "execute_result"
    }
   ],
   "source": [
    "## Your output should look like this:\n",
    "\n",
    "'''\n",
    "5\n",
    "6\n",
    "7\n",
    "8\n",
    "9\n",
    "10\n",
    "11\n",
    "12\n",
    "13\n",
    "14\n",
    "15\n",
    "'''"
   ]
  },
  {
   "cell_type": "code",
   "execution_count": 11,
   "metadata": {},
   "outputs": [
    {
     "name": "stdout",
     "output_type": "stream",
     "text": [
      "5\n",
      "6\n",
      "7\n",
      "8\n",
      "9\n",
      "10\n",
      "11\n",
      "12\n",
      "13\n",
      "14\n",
      "15\n"
     ]
    }
   ],
   "source": [
    "i = 5\n",
    "\n",
    "while i <= 15:\n",
    "    print(i)\n",
    "    i += 1"
   ]
  },
  {
   "cell_type": "markdown",
   "metadata": {},
   "source": [
    "- Create a while loop that will count by 2's starting with 0 and ending at 100. Follow each number with a new line."
   ]
  },
  {
   "cell_type": "code",
   "execution_count": 14,
   "metadata": {},
   "outputs": [
    {
     "name": "stdout",
     "output_type": "stream",
     "text": [
      "0\n",
      "---\n",
      "2\n",
      "---\n",
      "4\n",
      "---\n",
      "6\n",
      "---\n",
      "8\n",
      "---\n",
      "10\n",
      "---\n",
      "12\n",
      "---\n",
      "14\n",
      "---\n",
      "16\n",
      "---\n",
      "18\n",
      "---\n",
      "20\n",
      "---\n",
      "22\n",
      "---\n",
      "24\n",
      "---\n",
      "26\n",
      "---\n",
      "28\n",
      "---\n",
      "30\n",
      "---\n",
      "32\n",
      "---\n",
      "34\n",
      "---\n",
      "36\n",
      "---\n",
      "38\n",
      "---\n",
      "40\n",
      "---\n",
      "42\n",
      "---\n",
      "44\n",
      "---\n",
      "46\n",
      "---\n",
      "48\n",
      "---\n",
      "50\n",
      "---\n",
      "52\n",
      "---\n",
      "54\n",
      "---\n",
      "56\n",
      "---\n",
      "58\n",
      "---\n",
      "60\n",
      "---\n",
      "62\n",
      "---\n",
      "64\n",
      "---\n",
      "66\n",
      "---\n",
      "68\n",
      "---\n",
      "70\n",
      "---\n",
      "72\n",
      "---\n",
      "74\n",
      "---\n",
      "76\n",
      "---\n",
      "78\n",
      "---\n",
      "80\n",
      "---\n",
      "82\n",
      "---\n",
      "84\n",
      "---\n",
      "86\n",
      "---\n",
      "88\n",
      "---\n",
      "90\n",
      "---\n",
      "92\n",
      "---\n",
      "94\n",
      "---\n",
      "96\n",
      "---\n",
      "98\n",
      "---\n",
      "100\n",
      "---\n"
     ]
    }
   ],
   "source": [
    "i = 0\n",
    "\n",
    "while i <= 100:\n",
    "    print(i)\n",
    "    print('---')\n",
    "    i += 2"
   ]
  },
  {
   "cell_type": "markdown",
   "metadata": {},
   "source": [
    "- Alter your loop to count backwards by 5's from 100 to -10."
   ]
  },
  {
   "cell_type": "code",
   "execution_count": 15,
   "metadata": {},
   "outputs": [
    {
     "name": "stdout",
     "output_type": "stream",
     "text": [
      "100\n",
      "---\n",
      "90\n",
      "---\n",
      "80\n",
      "---\n",
      "70\n",
      "---\n",
      "60\n",
      "---\n",
      "50\n",
      "---\n",
      "40\n",
      "---\n",
      "30\n",
      "---\n",
      "20\n",
      "---\n",
      "10\n",
      "---\n",
      "0\n",
      "---\n",
      "-10\n",
      "---\n"
     ]
    }
   ],
   "source": [
    "i = 100\n",
    "\n",
    "while i >= -10:\n",
    "    print(i)\n",
    "    print('---')\n",
    "    i -= 10"
   ]
  },
  {
   "cell_type": "markdown",
   "metadata": {},
   "source": [
    "- Create a while loop that starts at 2, and displays the number squared on each line while the number is less than 1,000,000. Output should equal:"
   ]
  },
  {
   "cell_type": "code",
   "execution_count": 16,
   "metadata": {},
   "outputs": [
    {
     "name": "stdout",
     "output_type": "stream",
     "text": [
      "2\n",
      "---\n",
      "4\n",
      "---\n",
      "16\n",
      "---\n",
      "256\n",
      "---\n",
      "65536\n",
      "---\n"
     ]
    }
   ],
   "source": [
    "i = 2\n",
    "\n",
    "while i <= 1000000:\n",
    "    print(i)\n",
    "    print('---')\n",
    "    i *= i"
   ]
  },
  {
   "cell_type": "markdown",
   "metadata": {},
   "source": [
    "- Write a loop that uses print to create the output shown below.\n",
    "\n",
    "'''\n",
    "100\n",
    "95\n",
    "90\n",
    "85\n",
    "80\n",
    "75\n",
    "70\n",
    "65\n",
    "60\n",
    "55\n",
    "50\n",
    "45\n",
    "40\n",
    "35\n",
    "30\n",
    "25\n",
    "20\n",
    "15\n",
    "10\n",
    "5\n",
    "'''"
   ]
  },
  {
   "cell_type": "code",
   "execution_count": 18,
   "metadata": {},
   "outputs": [
    {
     "name": "stdout",
     "output_type": "stream",
     "text": [
      "100\n",
      "---\n",
      "95\n",
      "---\n",
      "90\n",
      "---\n",
      "85\n",
      "---\n",
      "80\n",
      "---\n",
      "75\n",
      "---\n",
      "70\n",
      "---\n",
      "65\n",
      "---\n",
      "60\n",
      "---\n",
      "55\n",
      "---\n",
      "50\n",
      "---\n",
      "45\n",
      "---\n",
      "40\n",
      "---\n",
      "35\n",
      "---\n",
      "30\n",
      "---\n",
      "25\n",
      "---\n",
      "20\n",
      "---\n",
      "15\n",
      "---\n",
      "10\n",
      "---\n",
      "5\n",
      "---\n"
     ]
    }
   ],
   "source": [
    "i = 100\n",
    "\n",
    "while i >= 5:\n",
    "    print(i)\n",
    "    print('---')\n",
    "    i -= 5"
   ]
  },
  {
   "cell_type": "markdown",
   "metadata": {},
   "source": [
    "## - B) For Loops"
   ]
  },
  {
   "cell_type": "markdown",
   "metadata": {},
   "source": [
    "- Write some code that prompts the user for a number, then shows a multiplication table up through 10 for that number.\n",
    "\n",
    "For example, if the user enters 7, your program should output:"
   ]
  },
  {
   "cell_type": "code",
   "execution_count": 19,
   "metadata": {},
   "outputs": [
    {
     "data": {
      "text/plain": [
       "'\\n7 x 1 = 7\\n7 x 2 = 14\\n7 x 3 = 21\\n7 x 4 = 28\\n7 x 5 = 35\\n7 x 6 = 42\\n7 x 7 = 49\\n7 x 8 = 56\\n7 x 9 = 63\\n7 x 10 = 70\\n'"
      ]
     },
     "execution_count": 19,
     "metadata": {},
     "output_type": "execute_result"
    }
   ],
   "source": [
    "'''\n",
    "7 x 1 = 7\n",
    "7 x 2 = 14\n",
    "7 x 3 = 21\n",
    "7 x 4 = 28\n",
    "7 x 5 = 35\n",
    "7 x 6 = 42\n",
    "7 x 7 = 49\n",
    "7 x 8 = 56\n",
    "7 x 9 = 63\n",
    "7 x 10 = 70\n",
    "'''"
   ]
  },
  {
   "cell_type": "code",
   "execution_count": 20,
   "metadata": {},
   "outputs": [
    {
     "name": "stdin",
     "output_type": "stream",
     "text": [
      "pick a number 3\n"
     ]
    },
    {
     "name": "stdout",
     "output_type": "stream",
     "text": [
      "3 x 1 = 3\n",
      "3 x 2 = 6\n",
      "3 x 3 = 9\n",
      "3 x 4 = 12\n",
      "3 x 5 = 15\n",
      "3 x 6 = 18\n",
      "3 x 7 = 21\n",
      "3 x 8 = 24\n",
      "3 x 9 = 27\n",
      "3 x 10 = 30\n"
     ]
    }
   ],
   "source": [
    "user_number = int(input('pick a number'))\n",
    "\n",
    "multiplication_range = range(1, 11)\n",
    "\n",
    "for number in multiplication_range:\n",
    "    print(f'{user_number} x {number} = {(user_number * number)}')"
   ]
  },
  {
   "cell_type": "markdown",
   "metadata": {},
   "source": [
    "- Create a for loop that uses print to create the output shown below."
   ]
  },
  {
   "cell_type": "code",
   "execution_count": 21,
   "metadata": {},
   "outputs": [
    {
     "data": {
      "text/plain": [
       "'\\n1\\n22\\n333\\n4444\\n55555\\n666666\\n7777777\\n88888888\\n999999999\\n'"
      ]
     },
     "execution_count": 21,
     "metadata": {},
     "output_type": "execute_result"
    }
   ],
   "source": [
    "'''\n",
    "1\n",
    "22\n",
    "333\n",
    "4444\n",
    "55555\n",
    "666666\n",
    "7777777\n",
    "88888888\n",
    "999999999\n",
    "'''"
   ]
  },
  {
   "cell_type": "code",
   "execution_count": 22,
   "metadata": {},
   "outputs": [
    {
     "name": "stdout",
     "output_type": "stream",
     "text": [
      "1\n",
      "22\n",
      "333\n",
      "4444\n",
      "55555\n",
      "666666\n",
      "7777777\n",
      "88888888\n",
      "999999999\n"
     ]
    }
   ],
   "source": [
    "for number in range(1,10):\n",
    "    print(str(number) * number)"
   ]
  },
  {
   "cell_type": "markdown",
   "metadata": {},
   "source": [
    "## C) break and continue"
   ]
  },
  {
   "cell_type": "markdown",
   "metadata": {},
   "source": [
    "- Prompt the user for an odd number between 1 and 50. Use a loop and a break statement to continue prompting the user if they enter invalid input. (Hint: use the isdigit method on strings to determine this). Use a loop and the continue statement to output all the odd numbers between 1 and 50, except for the number the user entered.\n",
    "\n",
    "Your output should look like this:"
   ]
  },
  {
   "cell_type": "code",
   "execution_count": 23,
   "metadata": {},
   "outputs": [
    {
     "data": {
      "text/plain": [
       "'\\nNumber to skip is: 27\\n\\nHere is an odd number: 1\\nHere is an odd number: 3\\nHere is an odd number: 5\\nHere is an odd number: 7\\nHere is an odd number: 9\\nHere is an odd number: 11\\nHere is an odd number: 13\\nHere is an odd number: 15\\nHere is an odd number: 17\\nHere is an odd number: 19\\nHere is an odd number: 21\\nHere is an odd number: 23\\nHere is an odd number: 25\\nYikes! Skipping number: 27\\nHere is an odd number: 29\\nHere is an odd number: 31\\nHere is an odd number: 33\\nHere is an odd number: 35\\nHere is an odd number: 37\\nHere is an odd number: 39\\nHere is an odd number: 41\\nHere is an odd number: 43\\nHere is an odd number: 45\\nHere is an odd number: 47\\nHere is an odd number: 49\\n\\n'"
      ]
     },
     "execution_count": 23,
     "metadata": {},
     "output_type": "execute_result"
    }
   ],
   "source": [
    "'''\n",
    "Number to skip is: 27\n",
    "\n",
    "Here is an odd number: 1\n",
    "Here is an odd number: 3\n",
    "Here is an odd number: 5\n",
    "Here is an odd number: 7\n",
    "Here is an odd number: 9\n",
    "Here is an odd number: 11\n",
    "Here is an odd number: 13\n",
    "Here is an odd number: 15\n",
    "Here is an odd number: 17\n",
    "Here is an odd number: 19\n",
    "Here is an odd number: 21\n",
    "Here is an odd number: 23\n",
    "Here is an odd number: 25\n",
    "Yikes! Skipping number: 27\n",
    "Here is an odd number: 29\n",
    "Here is an odd number: 31\n",
    "Here is an odd number: 33\n",
    "Here is an odd number: 35\n",
    "Here is an odd number: 37\n",
    "Here is an odd number: 39\n",
    "Here is an odd number: 41\n",
    "Here is an odd number: 43\n",
    "Here is an odd number: 45\n",
    "Here is an odd number: 47\n",
    "Here is an odd number: 49\n",
    "\n",
    "'''"
   ]
  },
  {
   "cell_type": "code",
   "execution_count": 25,
   "metadata": {},
   "outputs": [
    {
     "name": "stdin",
     "output_type": "stream",
     "text": [
      "Pick an odd number between 1 and 50! 33\n"
     ]
    },
    {
     "name": "stdout",
     "output_type": "stream",
     "text": [
      "Here is an odd number: 1\n",
      "Here is an odd number: 3\n",
      "Here is an odd number: 5\n",
      "Here is an odd number: 7\n",
      "Here is an odd number: 9\n",
      "Here is an odd number: 11\n",
      "Here is an odd number: 13\n",
      "Here is an odd number: 15\n",
      "Here is an odd number: 17\n",
      "Here is an odd number: 19\n",
      "Here is an odd number: 21\n",
      "Here is an odd number: 23\n",
      "Here is an odd number: 25\n",
      "Here is an odd number: 27\n",
      "Here is an odd number: 29\n",
      "Here is an odd number: 31\n",
      "Yikes! Skipping number: 33\n",
      "Here is an odd number: 33\n",
      "Here is an odd number: 35\n",
      "Here is an odd number: 37\n",
      "Here is an odd number: 39\n",
      "Here is an odd number: 41\n",
      "Here is an odd number: 43\n",
      "Here is an odd number: 45\n",
      "Here is an odd number: 47\n",
      "Here is an odd number: 49\n"
     ]
    }
   ],
   "source": [
    "skipped_number = int(input('Pick an odd number between 1 and 50!'))\n",
    "\n",
    "for n in range(50):\n",
    "    if n == skipped_number:\n",
    "        print(f'Yikes! Skipping number: {n}')\n",
    "    elif n % 2 == 0:\n",
    "        continue\n",
    "    print(f'Here is an odd number: {n}')"
   ]
  },
  {
   "cell_type": "markdown",
   "metadata": {},
   "source": [
    "## - D) The input function can be used to prompt for input and use that input in your python code. Prompt the user to enter a positive number and write a loop that counts from 0 to that number. (Hints: first make sure that the value the user entered is a valid number, also note that the input function returns a string, so you'll need to convert this to a numeric type.)"
   ]
  },
  {
   "cell_type": "code",
   "execution_count": 35,
   "metadata": {},
   "outputs": [
    {
     "name": "stdin",
     "output_type": "stream",
     "text": [
      "Please enter positive a number f\n"
     ]
    },
    {
     "name": "stdout",
     "output_type": "stream",
     "text": [
      "That input is invalid, please enter a positive number\n"
     ]
    }
   ],
   "source": [
    "user_number = input('Please enter positive a number')\n",
    "\n",
    "if user_number.isdigit():\n",
    "    if int(user_number) > 0:\n",
    "        for number in range(1, (int(user_number) + 1)):\n",
    "            print(number)\n",
    "else:\n",
    "    print('That input is invalid, please enter a positive number')"
   ]
  },
  {
   "cell_type": "markdown",
   "metadata": {},
   "source": [
    "## - E) Write a program that prompts the user for a positive integer. Next write a loop that prints out the numbers from the number the user entered down to 1."
   ]
  },
  {
   "cell_type": "code",
   "execution_count": 43,
   "metadata": {},
   "outputs": [
    {
     "name": "stdin",
     "output_type": "stream",
     "text": [
      "Please enter a positive number:  f\n",
      "Please enter a positive number:  -4\n",
      "Please enter a positive number:  4\n"
     ]
    },
    {
     "name": "stdout",
     "output_type": "stream",
     "text": [
      "4\n",
      "3\n",
      "2\n",
      "1\n"
     ]
    }
   ],
   "source": [
    "while True:\n",
    "    user_number = input(\"Please enter a positive number: \")\n",
    "    if user_number.isdigit():\n",
    "        user_number = int(user_number)\n",
    "        if user_number <= 0:\n",
    "            continue\n",
    "        break\n",
    "\n",
    "for i in range(user_number, 0, -1):\n",
    "    print(i)"
   ]
  },
  {
   "cell_type": "markdown",
   "metadata": {},
   "source": [
    "# 3. Fizzbuzz\n",
    "\n",
    "One of the most common interview questions for entry-level programmers is the FizzBuzz test. Developed by Imran Ghory, the test is designed to test basic looping and conditional logic skills."
   ]
  },
  {
   "cell_type": "markdown",
   "metadata": {},
   "source": [
    "- Write a program that prints the numbers from 1 to 100.\n",
    "\n",
    "- For multiples of three print \"Fizz\" instead of the number\n",
    "\n",
    "- For the multiples of five print \"Buzz\".\n",
    "\n",
    "- For numbers which are multiples of both three and five print \"FizzBuzz\"."
   ]
  },
  {
   "cell_type": "code",
   "execution_count": 44,
   "metadata": {},
   "outputs": [
    {
     "name": "stdout",
     "output_type": "stream",
     "text": [
      "1\n",
      "2\n",
      "Fizz\n",
      "4\n",
      "Buzz\n",
      "Fizz\n",
      "7\n",
      "8\n",
      "Fizz\n",
      "Buzz\n",
      "11\n",
      "Fizz\n",
      "13\n",
      "14\n",
      "FizzBuzz\n",
      "16\n",
      "17\n",
      "Fizz\n",
      "19\n",
      "Buzz\n",
      "Fizz\n",
      "22\n",
      "23\n",
      "Fizz\n",
      "Buzz\n",
      "26\n",
      "Fizz\n",
      "28\n",
      "29\n",
      "FizzBuzz\n",
      "31\n",
      "32\n",
      "Fizz\n",
      "34\n",
      "Buzz\n",
      "Fizz\n",
      "37\n",
      "38\n",
      "Fizz\n",
      "Buzz\n",
      "41\n",
      "Fizz\n",
      "43\n",
      "44\n",
      "FizzBuzz\n",
      "46\n",
      "47\n",
      "Fizz\n",
      "49\n",
      "Buzz\n",
      "Fizz\n",
      "52\n",
      "53\n",
      "Fizz\n",
      "Buzz\n",
      "56\n",
      "Fizz\n",
      "58\n",
      "59\n",
      "FizzBuzz\n",
      "61\n",
      "62\n",
      "Fizz\n",
      "64\n",
      "Buzz\n",
      "Fizz\n",
      "67\n",
      "68\n",
      "Fizz\n",
      "Buzz\n",
      "71\n",
      "Fizz\n",
      "73\n",
      "74\n",
      "FizzBuzz\n",
      "76\n",
      "77\n",
      "Fizz\n",
      "79\n",
      "Buzz\n",
      "Fizz\n",
      "82\n",
      "83\n",
      "Fizz\n",
      "Buzz\n",
      "86\n",
      "Fizz\n",
      "88\n",
      "89\n",
      "FizzBuzz\n",
      "91\n",
      "92\n",
      "Fizz\n",
      "94\n",
      "Buzz\n",
      "Fizz\n",
      "97\n",
      "98\n",
      "Fizz\n",
      "Buzz\n"
     ]
    }
   ],
   "source": [
    "for n in range(1,101):\n",
    "    if (n % 3 == 0) and (n % 5 == 0):\n",
    "        print('FizzBuzz')\n",
    "    elif n % 3 == 0:\n",
    "        print('Fizz')\n",
    "    elif n % 5 == 0:\n",
    "        print('Buzz')\n",
    "    else:\n",
    "        print(n)"
   ]
  },
  {
   "cell_type": "markdown",
   "metadata": {},
   "source": [
    "# 4. Display a table of powers.\n",
    "\n",
    "- Prompt the user to enter an integer.\n",
    "\n",
    "- Display a table of squares and cubes from 1 to the value entered.\n",
    "\n",
    "- Ask if the user wants to continue.\n",
    "\n",
    "- Assume that the user will enter valid data.\n",
    "\n",
    "- Only continue if the user agrees to.\n",
    "\n",
    "Example Output:"
   ]
  },
  {
   "cell_type": "code",
   "execution_count": 45,
   "metadata": {},
   "outputs": [
    {
     "data": {
      "text/plain": [
       "'\\nWhat number would you like to go up to? 5\\n\\nHere is your table!\\n\\nnumber | squared | cubed\\n------ | ------- | -----\\n1      | 1       | 1\\n2      | 4       | 8\\n3      | 9       | 27\\n4      | 16      | 64\\n5      | 25      | 125\\n\\n'"
      ]
     },
     "execution_count": 45,
     "metadata": {},
     "output_type": "execute_result"
    }
   ],
   "source": [
    "'''\n",
    "What number would you like to go up to? 5\n",
    "\n",
    "Here is your table!\n",
    "\n",
    "number | squared | cubed\n",
    "------ | ------- | -----\n",
    "1      | 1       | 1\n",
    "2      | 4       | 8\n",
    "3      | 9       | 27\n",
    "4      | 16      | 64\n",
    "5      | 25      | 125\n",
    "\n",
    "'''"
   ]
  },
  {
   "cell_type": "code",
   "execution_count": 48,
   "metadata": {},
   "outputs": [
    {
     "name": "stdin",
     "output_type": "stream",
     "text": [
      "What number would you like to go up to? 8\n"
     ]
    },
    {
     "name": "stdout",
     "output_type": "stream",
     "text": [
      "Here is your table!\n",
      "number|squared|cubed\n",
      "------|-------|-----\n",
      "  1   |   1   |  1  \n",
      "  2   |   4   |  8  \n",
      "  3   |   9   | 27  \n",
      "  4   |  16   | 64  \n",
      "  5   |  25   | 125 \n",
      "  6   |  36   | 216 \n",
      "  7   |  49   | 343 \n",
      "  8   |  64   | 512 \n"
     ]
    }
   ],
   "source": [
    "max_number = input('What number would you like to go up to?')\n",
    "\n",
    "print('Here is your table!')\n",
    "print('number|squared|cubed')\n",
    "print('------|-------|-----')\n",
    "\n",
    "num = int(max_number)\n",
    "for i in range(1, num + 1):\n",
    "\n",
    "    print('{:^6}|{:^7}|{:^5}'.format(i, i ** 2, i ** 3)) # mid aligned"
   ]
  },
  {
   "cell_type": "markdown",
   "metadata": {},
   "source": [
    "# 5. Convert given number grades into letter grades.\n",
    "\n",
    "- Prompt the user for a numerical grade from 0 to 100.\n",
    "\n",
    "- Display the corresponding letter grade.\n",
    "\n",
    "- Prompt the user to continue.\n",
    "\n",
    "- Assume that the user will enter valid integers for the grades.\n",
    "\n",
    "- The application should only continue if the user agrees to.\n",
    "\n",
    "    - Grade Ranges:\n",
    "\n",
    "        - A : 100 - 88\n",
    "        - B : 87 - 80\n",
    "        - C : 79 - 67\n",
    "        - D : 66 - 60\n",
    "        - F : 59 - 0"
   ]
  },
  {
   "cell_type": "code",
   "execution_count": 49,
   "metadata": {},
   "outputs": [
    {
     "name": "stdin",
     "output_type": "stream",
     "text": [
      "What is your grade? 87\n"
     ]
    },
    {
     "name": "stdout",
     "output_type": "stream",
     "text": [
      "Your grade is a B\n"
     ]
    },
    {
     "name": "stdin",
     "output_type": "stream",
     "text": [
      "Do you want to continue? Please enter yes or y to continue: y\n",
      "What is your grade? 34\n"
     ]
    },
    {
     "name": "stdout",
     "output_type": "stream",
     "text": [
      "Your grade is a F\n"
     ]
    },
    {
     "name": "stdin",
     "output_type": "stream",
     "text": [
      "Do you want to continue? Please enter yes or y to continue: n\n"
     ]
    }
   ],
   "source": [
    "while True:\n",
    "    grade = int(input('What is your grade?'))\n",
    "    if grade >= 88:\n",
    "        print('Your grade is an A')\n",
    "    elif grade >= 80:\n",
    "        print('Your grade is a B')\n",
    "    elif grade >= 67:\n",
    "        print('Your grade is a C')\n",
    "    elif grade >= 60:\n",
    "        print('Your grade is a D')\n",
    "    else:\n",
    "        print('Your grade is a F')\n",
    "    \n",
    "    choice = input('Do you want to continue? Please enter yes or y to continue:')\n",
    "    if choice.lower() in ['yes', 'y']:\n",
    "        continue\n",
    "    else:\n",
    "        break"
   ]
  },
  {
   "cell_type": "markdown",
   "metadata": {},
   "source": [
    "# 6. Create a list of dictionaries where each dictionary represents a book that you have read. Each dictionary in the list should have the keys title, author, and genre. Loop through the list and print out information about each book.\n",
    "\n",
    "Prompt the user to enter a genre, then loop through your books list and print out the titles of all the books in that genre."
   ]
  },
  {
   "cell_type": "code",
   "execution_count": 50,
   "metadata": {},
   "outputs": [],
   "source": [
    "books = [\n",
    "    {\n",
    "        'title':'title1',\n",
    "        'author': 'author1',\n",
    "        'genre': 'genre1'\n",
    "    },\n",
    "    {\n",
    "        'title':'title2',\n",
    "        'author': 'author1',\n",
    "        'genre': 'genre2'\n",
    "    },\n",
    "    {\n",
    "        'title':'title3',\n",
    "        'author': 'author2',\n",
    "        'genre': 'genre2'\n",
    "    },\n",
    "    {\n",
    "        'title':'title4',\n",
    "        'author': 'author3',\n",
    "        'genre': 'genre2'\n",
    "    }\n",
    "]"
   ]
  },
  {
   "cell_type": "code",
   "execution_count": 51,
   "metadata": {},
   "outputs": [
    {
     "name": "stdout",
     "output_type": "stream",
     "text": [
      " The book title1 by author author1 belongs to genre1\n",
      " The book title2 by author author1 belongs to genre2\n",
      " The book title3 by author author2 belongs to genre2\n",
      " The book title4 by author author3 belongs to genre2\n"
     ]
    }
   ],
   "source": [
    "for book in books:\n",
    "    print(f\" The book {book['title']} by author {book['author']} belongs to {book['genre']}\")"
   ]
  },
  {
   "cell_type": "code",
   "execution_count": 52,
   "metadata": {},
   "outputs": [
    {
     "name": "stdin",
     "output_type": "stream",
     "text": [
      "Please choose a genre:  genre1\n"
     ]
    },
    {
     "name": "stdout",
     "output_type": "stream",
     "text": [
      "title1\n"
     ]
    }
   ],
   "source": [
    "user_input = input('Please choose a genre: ')\n",
    "for book in books:\n",
    "    if user_input.lower() == book['genre']:\n",
    "        print(book['title'])"
   ]
  },
  {
   "cell_type": "code",
   "execution_count": null,
   "metadata": {},
   "outputs": [],
   "source": []
  }
 ],
 "metadata": {
  "kernelspec": {
   "display_name": "Python 3",
   "language": "python",
   "name": "python3"
  },
  "language_info": {
   "codemirror_mode": {
    "name": "ipython",
    "version": 3
   },
   "file_extension": ".py",
   "mimetype": "text/x-python",
   "name": "python",
   "nbconvert_exporter": "python",
   "pygments_lexer": "ipython3",
   "version": "3.8.5"
  }
 },
 "nbformat": 4,
 "nbformat_minor": 4
}
